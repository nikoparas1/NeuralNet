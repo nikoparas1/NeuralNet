{
 "cells": [
  {
   "cell_type": "code",
   "execution_count": 1,
   "id": "a66002d2",
   "metadata": {},
   "outputs": [],
   "source": [
    "from network import *"
   ]
  },
  {
   "cell_type": "code",
   "execution_count": 2,
   "id": "146e57df",
   "metadata": {},
   "outputs": [],
   "source": [
    "MNIST_TRAIN = \"data/mnist_train.csv\"\n",
    "MNIST_TEST = \"data/mnist_test.csv\"\n",
    "\n",
    "X_train, y_train, _, _ = load_data(MNIST_TRAIN, MNIST_TEST)\n",
    "\n",
    "y_train_encoded = one_hot_encode(y_train, 10)\n",
    "\n",
    "input_size = 784\n",
    "hidden_size = 256\n",
    "output_size = 10\n",
    "lr = 0.1\n",
    "epochs = 1000"
   ]
  },
  {
   "cell_type": "code",
   "execution_count": 3,
   "id": "a5c1e625",
   "metadata": {},
   "outputs": [
    {
     "name": "stdout",
     "output_type": "stream",
     "text": [
      "Epoch 0, Loss: 2.4483\n",
      "Epoch 100, Loss: 0.4510\n",
      "Epoch 200, Loss: 0.3545\n",
      "Epoch 300, Loss: 0.3134\n",
      "Epoch 400, Loss: 0.2871\n",
      "Epoch 500, Loss: 0.2674\n",
      "Epoch 600, Loss: 0.2513\n",
      "Epoch 700, Loss: 0.2376\n",
      "Epoch 800, Loss: 0.2256\n",
      "Epoch 900, Loss: 0.2149\n"
     ]
    }
   ],
   "source": [
    "nn = Network(\n",
    "    input_size=input_size,\n",
    "    hidden_size=hidden_size,\n",
    "    output_size=output_size,\n",
    "    lr=lr,\n",
    "    activation=Activation.relu,\n",
    ")\n",
    "\n",
    "nn.train(X_train, y_train_encoded, epochs=epochs)\n",
    "nn.save(f\"mnist_{nn.activation.name}_{hidden_size}_{lr}_{epochs}.npz\")"
   ]
  }
 ],
 "metadata": {
  "kernelspec": {
   "display_name": "Python 3",
   "language": "python",
   "name": "python3"
  },
  "language_info": {
   "codemirror_mode": {
    "name": "ipython",
    "version": 3
   },
   "file_extension": ".py",
   "mimetype": "text/x-python",
   "name": "python",
   "nbconvert_exporter": "python",
   "pygments_lexer": "ipython3",
   "version": "3.12.4"
  }
 },
 "nbformat": 4,
 "nbformat_minor": 5
}
