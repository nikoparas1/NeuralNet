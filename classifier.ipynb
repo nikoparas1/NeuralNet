{
 "cells": [
  {
   "cell_type": "code",
   "execution_count": 1,
   "id": "e8241633",
   "metadata": {},
   "outputs": [
    {
     "data": {
      "text/html": [
       "\n",
       "<style>\n",
       ".dark-parent {\n",
       "  background: #111;       /* very dark gray */\n",
       "  padding: 8px;\n",
       "  border-radius: 8px;\n",
       "}\n",
       "</style>\n"
      ],
      "text/plain": [
       "<IPython.core.display.HTML object>"
      ]
     },
     "metadata": {},
     "output_type": "display_data"
    }
   ],
   "source": [
    "from network_conf import *\n",
    "from PIL import Image\n",
    "import matplotlib.pyplot as plt\n",
    "from canvas import DrawingWidget\n",
    "from IPython.display import display"
   ]
  },
  {
   "cell_type": "code",
   "execution_count": 2,
   "id": "318779c4",
   "metadata": {},
   "outputs": [],
   "source": [
    "MNIST_TRAIN = \"data/mnist_train.csv\"\n",
    "MNIST_TEST = \"data/mnist_test.csv\"\n",
    "\n",
    "X_train, y_train, X_test, y_test = load_data(MNIST_TRAIN, MNIST_TEST)\n",
    "\n",
    "y_train_encoded = one_hot_encode(y_train, 10)\n",
    "y_test_encoded = one_hot_encode(y_test, 10)\n",
    "\n",
    "input_size = 784\n",
    "hidden_size = 256\n",
    "output_size = 10\n",
    "lr = 0.1"
   ]
  },
  {
   "cell_type": "code",
   "execution_count": 3,
   "id": "bd54cb86",
   "metadata": {},
   "outputs": [
    {
     "name": "stdout",
     "output_type": "stream",
     "text": [
      "Epoch 0, Loss: 4.5288\n"
     ]
    }
   ],
   "source": [
    "nn = Network(\n",
    "    input_size=input_size,\n",
    "    hidden_size=hidden_size,\n",
    "    output_size=output_size,\n",
    "    lr=lr,\n",
    "    activation=Activation.relu,\n",
    ")\n",
    "\n",
    "nn.train(X_train, y_train_encoded, epochs=100)\n",
    "nn.save(f\"mnist_relu_{hidden_size}.npz\")"
   ]
  },
  {
   "cell_type": "code",
   "execution_count": null,
   "id": "57dfffeb",
   "metadata": {},
   "outputs": [],
   "source": [
    "y_test_pred = nn.predict(X_test)\n",
    "y_test_pred_encoded = one_hot_encode(y_test_pred)\n",
    "test_accuracy = accuracy(y_test_encoded, y_test_pred_encoded)\n",
    "print(f\"Test Accuracy: {test_accuracy * 100:.2f}%\")"
   ]
  },
  {
   "cell_type": "code",
   "execution_count": null,
   "id": "9b16227a",
   "metadata": {},
   "outputs": [],
   "source": [
    "def plot_predictions(X_test, y_test, y_pred, num_samples=10):\n",
    "    plt.figure(figsize=(10, 10))\n",
    "\n",
    "    for i in range(num_samples):\n",
    "        idx = np.random.randint(0, X_test.shape[0])\n",
    "\n",
    "        image = X_test[idx].reshape(28, 28)\n",
    "        true_label = y_test[idx]\n",
    "        predicted_label = y_pred[idx]\n",
    "\n",
    "        plt.subplot(5, 5, i + 1)\n",
    "        plt.imshow(image, cmap=\"gray\")\n",
    "        plt.title(f\"True: {true_label}, Pred: {predicted_label}\")\n",
    "        plt.axis(\"off\")\n",
    "\n",
    "    plt.tight_layout()\n",
    "    plt.show()\n",
    "\n",
    "\n",
    "plot_predictions(X_test, y_test, y_test_pred, num_samples=10)"
   ]
  },
  {
   "cell_type": "code",
   "execution_count": null,
   "id": "99f902f7",
   "metadata": {},
   "outputs": [],
   "source": [
    "drawing_widget = DrawingWidget(\n",
    "    width=500, height=500, background=\"#000\", default_style=\"#fff\"\n",
    ")\n",
    "\n",
    "drawing_widget.show()"
   ]
  },
  {
   "cell_type": "code",
   "execution_count": null,
   "id": "4ca92528",
   "metadata": {},
   "outputs": [],
   "source": [
    "x28_float32, x28_float32_flat = drawing_widget.get_image_data(\n",
    "    mnist=True, size=28, dtype=\"int8\"\n",
    ")\n",
    "\n",
    "display(Image.fromarray(x28_float32))"
   ]
  },
  {
   "cell_type": "code",
   "execution_count": null,
   "id": "ae554130",
   "metadata": {},
   "outputs": [],
   "source": [
    "y_sample_pred = nn.predict(x28_float32_flat)[0]\n",
    "print(y_sample_pred)"
   ]
  }
 ],
 "metadata": {
  "kernelspec": {
   "display_name": "Python 3",
   "language": "python",
   "name": "python3"
  },
  "language_info": {
   "codemirror_mode": {
    "name": "ipython",
    "version": 3
   },
   "file_extension": ".py",
   "mimetype": "text/x-python",
   "name": "python",
   "nbconvert_exporter": "python",
   "pygments_lexer": "ipython3",
   "version": "3.12.4"
  }
 },
 "nbformat": 4,
 "nbformat_minor": 5
}
