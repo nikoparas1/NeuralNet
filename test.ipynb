{
 "cells": [
  {
   "cell_type": "code",
   "execution_count": null,
   "id": "bd9fee82",
   "metadata": {},
   "outputs": [],
   "source": [
    "from network import *\n",
    "from utils import model_dropdown, canvas_to_mnist\n",
    "from PIL import Image\n",
    "import matplotlib.pyplot as plt\n",
    "from canvas import DrawingWidget\n",
    "from IPython.display import display"
   ]
  },
  {
   "cell_type": "code",
   "execution_count": null,
   "id": "2ba2b239",
   "metadata": {},
   "outputs": [],
   "source": [
    "model_dd = model_dropdown()\n",
    "display(model_dd)"
   ]
  },
  {
   "cell_type": "code",
   "execution_count": null,
   "id": "3c23183d",
   "metadata": {},
   "outputs": [],
   "source": [
    "model_name = model_dd.value\n",
    "\n",
    "MNIST_TRAIN = \"data/mnist_train.csv\"\n",
    "MNIST_TEST = \"data/mnist_test.csv\"\n",
    "\n",
    "\n",
    "_, _, X_test, y_test = load_data(MNIST_TRAIN, MNIST_TEST)\n",
    "\n",
    "y_test_encoded = one_hot_encode(y_test, 10)\n",
    "\n",
    "print(f\"Loading {model_name}\")\n",
    "nn = Network.load(model_name)"
   ]
  },
  {
   "cell_type": "code",
   "execution_count": null,
   "id": "7c33d178",
   "metadata": {},
   "outputs": [],
   "source": [
    "y_test_pred = nn.predict(X_test)\n",
    "y_test_pred_encoded = one_hot_encode(y_test_pred)\n",
    "test_accuracy = accuracy(y_test_encoded, y_test_pred_encoded)\n",
    "print(f\"Test Accuracy: {test_accuracy * 100:.2f}%\")"
   ]
  },
  {
   "cell_type": "code",
   "execution_count": null,
   "id": "3e9ea078",
   "metadata": {},
   "outputs": [],
   "source": [
    "def plot_predictions(X_test, y_test, y_pred, num_samples=10):\n",
    "    plt.figure(figsize=(10, 10))\n",
    "\n",
    "    for i in range(num_samples):\n",
    "        idx = np.random.randint(0, X_test.shape[0])\n",
    "\n",
    "        image = X_test[idx].reshape(28, 28)\n",
    "        true_label = y_test[idx]\n",
    "        predicted_label = y_pred[idx]\n",
    "\n",
    "        plt.subplot(5, 5, i + 1)\n",
    "        plt.imshow(image, cmap=\"gray\")\n",
    "        plt.title(f\"True: {true_label}, Pred: {predicted_label}\")\n",
    "        plt.axis(\"off\")\n",
    "\n",
    "    plt.tight_layout()\n",
    "    plt.show()\n",
    "\n",
    "\n",
    "plot_predictions(X_test, y_test, y_test_pred, num_samples=10)"
   ]
  },
  {
   "cell_type": "code",
   "execution_count": null,
   "id": "076486a4",
   "metadata": {},
   "outputs": [],
   "source": [
    "def on_predict(img, flat):\n",
    "    display(Image.fromarray((img * 255).astype(np.uint8)))\n",
    "    x = canvas_to_mnist(img)\n",
    "    print(x.shape, x.dtype, x.min(), x.max())\n",
    "    print(\"pred:\", nn.predict(x)[0])\n",
    "\n",
    "\n",
    "drawing_widget = DrawingWidget(\n",
    "    width=500, height=500, background=\"#000\", default_style=\"#fff\"\n",
    ")\n",
    "display(drawing_widget.show(on_predict=on_predict))"
   ]
  }
 ],
 "metadata": {
  "kernelspec": {
   "display_name": "Python 3",
   "language": "python",
   "name": "python3"
  },
  "language_info": {
   "codemirror_mode": {
    "name": "ipython",
    "version": 3
   },
   "file_extension": ".py",
   "mimetype": "text/x-python",
   "name": "python",
   "nbconvert_exporter": "python",
   "pygments_lexer": "ipython3",
   "version": "3.12.4"
  }
 },
 "nbformat": 4,
 "nbformat_minor": 5
}
